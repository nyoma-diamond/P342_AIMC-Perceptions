{
 "cells": [
  {
   "cell_type": "code",
   "execution_count": null,
   "metadata": {
    "collapsed": true
   },
   "outputs": [],
   "source": [
    "import re\n",
    "from functools import partial\n",
    "\n",
    "from tqdm.notebook import tqdm\n",
    "\n",
    "import pandas as pd\n",
    "from statsmodels.stats.multicomp import pairwise_tukeyhsd\n",
    "from scipy.stats import levene\n",
    "import matplotlib.pyplot as plt\n",
    "import seaborn as sns\n",
    "\n",
    "topics = {\n",
    "    'a': 'Advice',\n",
    "    'e': 'Entertainment',\n",
    "    'g': 'Gossip',\n",
    "    'i': 'Informational',\n",
    "    'r': 'Recommendation',\n",
    "    's': 'Social'\n",
    "}"
   ]
  },
  {
   "cell_type": "code",
   "execution_count": null,
   "outputs": [],
   "source": [
    "df = pd.read_csv('data.csv', header=0, skiprows=[1,2], usecols=partial(re.fullmatch, r'[aegirs][123][+=-] (tone|clarity|intent)'))\n",
    "\n",
    "display(df)\n",
    "cols = df.columns"
   ],
   "metadata": {
    "collapsed": false
   }
  },
  {
   "cell_type": "code",
   "execution_count": null,
   "outputs": [],
   "source": [
    "df.columns = pd.MultiIndex.from_arrays([\n",
    "    cols.map(lambda col: col[4:]),\n",
    "    cols.map(lambda col: col[2]),\n",
    "    cols.map(lambda col: col[0]),\n",
    "    cols.map(lambda col: col[1]),\n",
    "])\n",
    "\n",
    "display(df)"
   ],
   "metadata": {
    "collapsed": false
   }
  },
  {
   "cell_type": "code",
   "execution_count": null,
   "outputs": [],
   "source": [
    "stacked = df.stack(level=[1,2,3])\n",
    "stacked.index = stacked.index.droplevel(0).set_names(['label', 'topic', 'message'])\n",
    "stacked = stacked.reset_index()\n",
    "display(stacked)"
   ],
   "metadata": {
    "collapsed": false
   }
  },
  {
   "cell_type": "code",
   "execution_count": null,
   "outputs": [],
   "source": [
    "# import re\n",
    "\n",
    "tukey_results = {}\n",
    "\n",
    "for question in ['tone', 'clarity', 'intent']:\n",
    "    tukey_results[question] = pairwise_tukeyhsd(endog=stacked[question], groups=stacked['label'], alpha=0.05)\n",
    "    \n",
    "    print(question, '\\n', tukey_results[question].summary(), '\\n\\n')\n",
    "    \n",
    "    _ = tukey_results[question].plot_simultaneous(figsize=(5,3), xlabel=f'{question.capitalize()} ranking', ylabel='Label')\n",
    "    plt.title(f'Pairwise Tukey test for {question.capitalize()} question')\n",
    "    \n",
    "    # print('\\\\begin{table}\\n', re.sub(r'\\%\\\\caption\\{.*\\}', f'\\\\\\caption{{Pairwise Tukey test for {question.capitalize()} question}}', tukey_results[question].summary().as_latex_tabular()), '\\n\\\\end{table}\\n\\n')"
   ],
   "metadata": {
    "collapsed": false
   }
  },
  {
   "cell_type": "code",
   "execution_count": null,
   "outputs": [],
   "source": [
    "for question, tukey_data in tukey_results.items():\n",
    "    df = pd.DataFrame(tukey_data.summary())\n",
    "    df = df.map(lambda x: x.data)\n",
    "    df.columns = df.iloc[0]\n",
    "    df = df.iloc[1:]\n",
    "    df = df.drop(columns='reject')\n",
    "    df = df[['group1', 'group2', 'meandiff', 'lower', 'upper', 'p-adj']]\n",
    "    df = df.rename(columns = {\n",
    "        'group1': 'Label 1',\n",
    "        'group2': 'Label 2',\n",
    "        'meandiff': '$\\hat{y}_2 - \\hat{y}_1$',\n",
    "        'lower': 'Lower bound',\n",
    "        'upper': 'Upper bound',\n",
    "        'p-adj': 'p-value'\n",
    "    })\n",
    "    latex = df.to_latex(index=False,\n",
    "                        column_format='c'*len(df.columns),\n",
    "                        float_format='%.4f',\n",
    "                        position='htbp',\n",
    "                        caption=f'Pairwise Tukey test for {question.capitalize()} question')\n",
    "    print(latex.replace('\\n', '\\n\\\\centering\\n', 1))"
   ],
   "metadata": {
    "collapsed": false
   }
  },
  {
   "cell_type": "code",
   "execution_count": null,
   "outputs": [],
   "source": [
    "topic_analyses = {}\n",
    "\n",
    "for topic in tqdm(stacked['topic'].unique()):\n",
    "    print(f'==={topics[topic]}===')\n",
    "    data = stacked[stacked['topic'] == topic]\n",
    "    topic_analyses[topic] = {}\n",
    "    \n",
    "    for question in ['tone', 'clarity', 'intent']:\n",
    "        topic_analyses[topic][question] = pairwise_tukeyhsd(endog=data[question], groups=data['label'], alpha=0.05)\n",
    "    \n",
    "        print(question, '\\n', topic_analyses[topic][question].summary(), '\\n\\n')\n",
    "        \n",
    "        _ = topic_analyses[topic][question].plot_simultaneous(figsize=(5,3), xlabel=f'{question.capitalize()} ranking', ylabel='Label')\n",
    "        plt.title(f'Pairwise Tukey test for {question.capitalize()} question')"
   ],
   "metadata": {
    "collapsed": false
   }
  },
  {
   "cell_type": "code",
   "execution_count": null,
   "outputs": [],
   "source": [
    "for topic, topic_results in topic_analyses.items():\n",
    "    for question, tukey_data in topic_results.items():\n",
    "        df = pd.DataFrame(tukey_data.summary())\n",
    "        df = df.map(lambda x: x.data)\n",
    "        df.columns = df.iloc[0]\n",
    "        df = df.iloc[1:]\n",
    "        df = df.drop(columns='reject')\n",
    "        df = df[['group1', 'group2', 'meandiff', 'lower', 'upper', 'p-adj']]\n",
    "        df = df.rename(columns = {\n",
    "            'group1': 'Label 1',\n",
    "            'group2': 'Label 2',\n",
    "            'meandiff': '$\\hat{y}_2 - \\hat{y}_1$',\n",
    "            'lower': 'Lower bound',\n",
    "            'upper': 'Upper bound',\n",
    "            'p-adj': 'p-value'\n",
    "        })\n",
    "        \n",
    "        latex = df.to_latex(index=False,\n",
    "                            column_format='c'*len(df.columns),\n",
    "                            float_format='%.4f',\n",
    "                            position='htbp',\n",
    "                            caption=f'Pairwise Tukey test for {question.capitalize()} question on {topics[topic].capitalize()} messages')\n",
    "        print(latex.replace('\\n', '\\n\\\\centering\\n', 1))"
   ],
   "metadata": {
    "collapsed": false
   }
  },
  {
   "cell_type": "code",
   "execution_count": null,
   "outputs": [],
   "source": [
    "_, axs = plt.subplots(nrows=3, figsize=(5,10))\n",
    "\n",
    "for i, question in enumerate(['tone', 'clarity', 'intent']):\n",
    "    groups = [stacked[stacked['label'] == label][question].values for label in stacked['label'].unique()]\n",
    "    statistic, p_value = levene(*groups)\n",
    "    \n",
    "    # sns.swarmplot(x=question, y='label', data=stacked, hue='label', s=3, ax=axs[i])\n",
    "    sns.violinplot(x=question, y='label', data=stacked, hue='label', inner='box', cut=0, density_norm='count', alpha=0.5, ax=axs[i], legend=False)\n",
    "    \n",
    "    axs[i].set_ylabel('Label')\n",
    "    axs[i].set_xlabel(f'{question.capitalize()}, (Levene\\'s Test: statistic={statistic:.3f}, p={p_value:.3f})')\n",
    "    \n",
    "    \n",
    "plt.tight_layout()\n",
    "plt.show()"
   ],
   "metadata": {
    "collapsed": false
   }
  },
  {
   "cell_type": "code",
   "execution_count": null,
   "outputs": [],
   "source": [
    "for t_ind, topic in topics.items():\n",
    "    _, axs = plt.subplots(nrows=3, figsize=(5,10))\n",
    "    \n",
    "    for i, question in enumerate(['tone', 'clarity', 'intent']):\n",
    "        groups = [stacked[(stacked['label'] == label) & (stacked['topic'] == t_ind)][question].values for label in stacked['label'].unique()]\n",
    "        statistic, p_value = levene(*groups)\n",
    "        \n",
    "        # sns.swarmplot(x=question, y='label', data=stacked, hue='label', s=3, ax=axs[i])\n",
    "        sns.violinplot(x=question, y='label', data=stacked[stacked['topic'] == t_ind], hue='label', inner='box', cut=0, density_norm='count', alpha=0.5, ax=axs[i], legend=False)\n",
    "        \n",
    "        axs[i].set_ylabel('Label')\n",
    "        axs[i].set_xlabel(f'{question.capitalize()}, (Levene\\'s Test: statistic={statistic:.3f}, p={p_value:.3f})')\n",
    "    \n",
    "    plt.suptitle(topic)\n",
    "    plt.tight_layout()\n",
    "    plt.show()"
   ],
   "metadata": {
    "collapsed": false
   }
  }
 ],
 "metadata": {
  "kernelspec": {
   "display_name": "Python 3",
   "language": "python",
   "name": "python3"
  },
  "language_info": {
   "codemirror_mode": {
    "name": "ipython",
    "version": 2
   },
   "file_extension": ".py",
   "mimetype": "text/x-python",
   "name": "python",
   "nbconvert_exporter": "python",
   "pygments_lexer": "ipython2",
   "version": "2.7.6"
  }
 },
 "nbformat": 4,
 "nbformat_minor": 0
}
