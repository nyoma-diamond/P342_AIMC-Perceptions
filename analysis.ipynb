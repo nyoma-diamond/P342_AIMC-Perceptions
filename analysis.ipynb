{
 "cells": [
  {
   "cell_type": "code",
   "execution_count": null,
   "metadata": {
    "collapsed": true
   },
   "outputs": [],
   "source": [
    "import re\n",
    "from functools import partial\n",
    "\n",
    "from tqdm.notebook import tqdm\n",
    "\n",
    "import pandas as pd\n",
    "from statsmodels.stats.multicomp import pairwise_tukeyhsd\n",
    "from scipy.stats import levene\n",
    "import matplotlib.pyplot as plt\n",
    "import seaborn as sns\n",
    "\n",
    "topics = {\n",
    "    'a': 'Advice',\n",
    "    'e': 'Entertainment',\n",
    "    'g': 'Gossip',\n",
    "    'i': 'Informational',\n",
    "    'r': 'Recommendation',\n",
    "    's': 'Social'\n",
    "}"
   ]
  },
  {
   "cell_type": "code",
   "execution_count": null,
   "outputs": [],
   "source": [
    "df = pd.read_csv('data.csv', header=0, skiprows=[1,2], usecols=partial(re.fullmatch, r'[aegirs][123][+=-] (tone|clarity|intent)'))\n",
    "\n",
    "display(df)\n",
    "cols = df.columns"
   ],
   "metadata": {
    "collapsed": false
   }
  },
  {
   "cell_type": "code",
   "execution_count": null,
   "outputs": [],
   "source": [
    "df.columns = pd.MultiIndex.from_arrays([\n",
    "    cols.map(lambda col: col[4:]),\n",
    "    cols.map(lambda col: col[2]),\n",
    "    cols.map(lambda col: col[0]),\n",
    "    cols.map(lambda col: col[1]),\n",
    "])\n",
    "\n",
    "display(df)"
   ],
   "metadata": {
    "collapsed": false
   }
  },
  {
   "cell_type": "code",
   "execution_count": null,
   "outputs": [],
   "source": [
    "stacked = df.stack(level=[1,2,3])\n",
    "stacked.index = stacked.index.droplevel(0).set_names(['label', 'topic', 'message'])\n",
    "stacked = stacked.reset_index()\n",
    "display(stacked)"
   ],
   "metadata": {
    "collapsed": false
   }
  },
  {
   "cell_type": "code",
   "execution_count": null,
   "outputs": [],
   "source": [
    "tukey_tone =    pairwise_tukeyhsd(endog=stacked['tone'], groups=stacked['label'], alpha=0.05)\n",
    "tukey_clarity = pairwise_tukeyhsd(endog=stacked['clarity'], groups=stacked['label'], alpha=0.05)\n",
    "tukey_intent =  pairwise_tukeyhsd(endog=stacked['intent'], groups=stacked['label'], alpha=0.05)"
   ],
   "metadata": {
    "collapsed": false
   }
  },
  {
   "cell_type": "code",
   "execution_count": null,
   "outputs": [],
   "source": [
    "print('Tone:\\n', tukey_tone)\n",
    "print('\\nClarity:\\n', tukey_clarity)\n",
    "print('\\nIntent:\\n', tukey_intent)"
   ],
   "metadata": {
    "collapsed": false
   }
  },
  {
   "cell_type": "code",
   "execution_count": null,
   "outputs": [],
   "source": [
    "topic_analyses = {}\n",
    "\n",
    "for topic in tqdm(stacked['topic'].unique()):\n",
    "    data = stacked[stacked['topic'] == topic]\n",
    "\n",
    "    topic_analyses[topic] = {\n",
    "        'tone': pairwise_tukeyhsd(\n",
    "            endog=data['tone'],\n",
    "            groups=data['label'],\n",
    "            alpha=0.05\n",
    "        ),\n",
    "        'clarity': pairwise_tukeyhsd(\n",
    "            endog=data['clarity'],\n",
    "            groups=data['label'],\n",
    "            alpha=0.05\n",
    "        ),\n",
    "        'intent': pairwise_tukeyhsd(\n",
    "            endog=data['intent'],\n",
    "            groups=data['label'],\n",
    "            alpha=0.05\n",
    "        )\n",
    "    }\n",
    "\n",
    "    print(f'==={topics[topic]}===')\n",
    "    print('Tone:\\n', topic_analyses[topic]['tone'])\n",
    "    print('\\nClarity:\\n', topic_analyses[topic]['clarity'])\n",
    "    print('\\nIntent:\\n', topic_analyses[topic]['intent'])\n",
    "    print()"
   ],
   "metadata": {
    "collapsed": false
   }
  },
  {
   "cell_type": "code",
   "execution_count": null,
   "outputs": [],
   "source": [
    "_, axs = plt.subplots(nrows=3, figsize=(5,10))\n",
    "\n",
    "for i, question in enumerate(['tone', 'clarity', 'intent']):\n",
    "    groups = [stacked[stacked['label'] == label][question].values for label in stacked['label'].unique()]\n",
    "    statistic, p_value = levene(*groups)\n",
    "    \n",
    "    # sns.swarmplot(x=question, y='label', data=stacked, hue='label', s=3, ax=axs[i])\n",
    "    sns.violinplot(x=question, y='label', data=stacked, hue='label', inner='box', cut=0, density_norm='count', alpha=0.5, ax=axs[i])\n",
    "    axs[i].set_ylabel('Label')\n",
    "    axs[i].set_xlabel(f'{question.capitalize()}, (Levene\\'s Test: statistic={statistic:.3f}, p={p_value:.3f})')\n",
    "    \n",
    "    \n",
    "plt.tight_layout()\n",
    "plt.show()"
   ],
   "metadata": {
    "collapsed": false
   }
  },
  {
   "cell_type": "code",
   "execution_count": null,
   "outputs": [],
   "source": [
    "for t_ind, topic in topics.items():\n",
    "    _, axs = plt.subplots(nrows=3, figsize=(5,10))\n",
    "    \n",
    "    for i, question in enumerate(['tone', 'clarity', 'intent']):\n",
    "        groups = [stacked[(stacked['label'] == label) & (stacked['topic'] == t_ind)][question].values for label in stacked['label'].unique()]\n",
    "        statistic, p_value = levene(*groups)\n",
    "        \n",
    "        # sns.swarmplot(x=question, y='label', data=stacked, hue='label', s=3, ax=axs[i])\n",
    "        sns.violinplot(x=question, y='label', data=stacked[stacked['topic'] == t_ind], hue='label', inner='box', cut=0, density_norm='count', alpha=0.5, ax=axs[i])\n",
    "        axs[i].set_ylabel('Label')\n",
    "        axs[i].set_xlabel(f'{question.capitalize()}, (Levene\\'s Test: statistic={statistic:.3f}, p={p_value:.3f})')\n",
    "    \n",
    "    plt.suptitle(topic)\n",
    "    plt.tight_layout()\n",
    "    plt.show()"
   ],
   "metadata": {
    "collapsed": false
   }
  }
 ],
 "metadata": {
  "kernelspec": {
   "display_name": "Python 3",
   "language": "python",
   "name": "python3"
  },
  "language_info": {
   "codemirror_mode": {
    "name": "ipython",
    "version": 2
   },
   "file_extension": ".py",
   "mimetype": "text/x-python",
   "name": "python",
   "nbconvert_exporter": "python",
   "pygments_lexer": "ipython2",
   "version": "2.7.6"
  }
 },
 "nbformat": 4,
 "nbformat_minor": 0
}
